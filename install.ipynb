{
 "cells": [
  {
   "cell_type": "code",
   "execution_count": 1,
   "id": "4bea766c-e4c1-4c7d-9dc4-1e5b4bda24ee",
   "metadata": {},
   "outputs": [
    {
     "name": "stdout",
     "output_type": "stream",
     "text": [
      "Note: you may need to restart the kernel to use updated packages.\n"
     ]
    }
   ],
   "source": [
    "!pip3 install torch torchvision torchaudio --index-url https://download.pytorch.org/whl/cu126\n",
    "!pip install numpy pandas torch torchvision torchaudio scikit-learn tqdm mlflow matplotlib\n",
    "!pip install opencv-python  numpy  seaborn tqdm ultralytics xgboost lightgbm  \n",
    "!pip install rtmlib\n",
    "!pip install onnxruntime-gpu\n"
   ]
  },
  {
   "cell_type": "code",
   "execution_count": null,
   "id": "dc956331-68ea-41aa-be48-97c56d9c2499",
   "metadata": {},
   "outputs": [],
   "source": [
    "pip freeze > requirements.txt\n"
   ]
  }
 ],
 "metadata": {
  "kernelspec": {
   "display_name": "Python 3 (ipykernel)",
   "language": "python",
   "name": "python3"
  },
  "language_info": {
   "codemirror_mode": {
    "name": "ipython",
    "version": 3
   },
   "file_extension": ".py",
   "mimetype": "text/x-python",
   "name": "python",
   "nbconvert_exporter": "python",
   "pygments_lexer": "ipython3",
   "version": "3.12.11"
  }
 },
 "nbformat": 4,
 "nbformat_minor": 5
}
